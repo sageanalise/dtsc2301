{
 "cells": [
  {
   "cell_type": "markdown",
   "id": "d1f3913d-4324-4d2d-a190-8d3b1a9b1e3e",
   "metadata": {},
   "source": [
    "# Introduction to Web Scraping "
   ]
  },
  {
   "cell_type": "markdown",
   "id": "9df0d471-5a69-4441-89c9-6aa9b49f4a2e",
   "metadata": {},
   "source": [
    "### Example 01"
   ]
  },
  {
   "cell_type": "code",
   "execution_count": 102,
   "id": "20740bd9-398a-4fb4-8840-81ac6a58e5a5",
   "metadata": {
    "tags": []
   },
   "outputs": [],
   "source": [
    "import requests\n",
    "import pandas as pd\n",
    "from bs4 import BeautifulSoup"
   ]
  },
  {
   "cell_type": "code",
   "execution_count": 103,
   "id": "8cb07e72-2bef-4299-bdea-b62e3691aecc",
   "metadata": {
    "tags": []
   },
   "outputs": [
    {
     "name": "stdout",
     "output_type": "stream",
     "text": [
      "<Response [200]>\n"
     ]
    }
   ],
   "source": [
    "url = \"https://ticker.finology.in/\"\n",
    "\n",
    "r= requests.get(url)\n",
    "print(r)"
   ]
  },
  {
   "cell_type": "markdown",
   "id": "9e09c4bb-a1d4-41d7-a6ce-a0bf6d64d855",
   "metadata": {},
   "source": [
    "### Create a soup object out of the html document that the module requests retrieved for us"
   ]
  },
  {
   "cell_type": "code",
   "execution_count": 104,
   "id": "c5730dad-6015-43ef-a010-f3c1cb55311f",
   "metadata": {
    "tags": []
   },
   "outputs": [],
   "source": [
    "soup = BeautifulSoup(r.text, \"lxml\")"
   ]
  },
  {
   "cell_type": "markdown",
   "id": "e6e1b972-58f7-48ec-80e1-2edd30cf4413",
   "metadata": {},
   "source": [
    "### Create a table object from the html table contained in the soup object"
   ]
  },
  {
   "cell_type": "code",
   "execution_count": 105,
   "id": "fe023ad1-cf37-45e6-9b8e-a793d620ac4d",
   "metadata": {
    "tags": []
   },
   "outputs": [],
   "source": [
    "table = soup.find(\"table\", class_=\"table table-sm table-hover screenertable\")\n",
    "#print(table)     #uncomment to see full output"
   ]
  },
  {
   "cell_type": "markdown",
   "id": "f150ad9f-385b-4d34-8a45-3eb09b29bf68",
   "metadata": {},
   "source": [
    "##3 Find all the headers in the scraped table"
   ]
  },
  {
   "cell_type": "code",
   "execution_count": 106,
   "id": "809e089a-c749-456f-a770-939c20440b55",
   "metadata": {
    "tags": []
   },
   "outputs": [
    {
     "name": "stdout",
     "output_type": "stream",
     "text": [
      "[<th scope=\"col\">Company</th>, <th scope=\"col\">Price<span class=\"muted\">Rs.</span></th>, <th scope=\"col\">Day High<span class=\"muted\">Rs.</span></th>]\n"
     ]
    }
   ],
   "source": [
    "headers = table.find_all(\"th\")\n",
    "print(headers)"
   ]
  },
  {
   "cell_type": "markdown",
   "id": "0ab85ea6-690f-42a6-8c2f-16810a585116",
   "metadata": {},
   "source": [
    "### Place the headers in a list called \"titles\""
   ]
  },
  {
   "cell_type": "code",
   "execution_count": 107,
   "id": "b36bcc6c-bdd9-4af1-ad3f-b78882aa4a7b",
   "metadata": {
    "tags": []
   },
   "outputs": [
    {
     "name": "stdout",
     "output_type": "stream",
     "text": [
      "['Company', 'PriceRs.', 'Day HighRs.']\n"
     ]
    }
   ],
   "source": [
    "titles = []\n",
    "\n",
    "for i in headers:\n",
    "    title = i.text\n",
    "    titles.append(title)\n",
    "    \n",
    "print(titles)"
   ]
  },
  {
   "cell_type": "markdown",
   "id": "cee621a4-ec37-4efc-b969-a2f674eb7e3a",
   "metadata": {},
   "source": [
    "### Create an empty pandas dataframe with the column names equal to the table headers in the list \"titles\""
   ]
  },
  {
   "cell_type": "code",
   "execution_count": 108,
   "id": "c74a99df-a46a-4e66-9c86-19e767f91da4",
   "metadata": {
    "tags": []
   },
   "outputs": [
    {
     "name": "stdout",
     "output_type": "stream",
     "text": [
      "Empty DataFrame\n",
      "Columns: [Company, PriceRs., Day HighRs.]\n",
      "Index: []\n"
     ]
    }
   ],
   "source": [
    "df= pd.DataFrame(columns=titles)\n",
    "print(df)"
   ]
  },
  {
   "cell_type": "markdown",
   "id": "0f6bb211-7e04-4d76-9101-9642dfbf195b",
   "metadata": {},
   "source": [
    "### Find all the row in the table and place them into an object called rows"
   ]
  },
  {
   "cell_type": "code",
   "execution_count": 109,
   "id": "02e56701-7bf6-4402-a118-09409a6e3a63",
   "metadata": {
    "tags": []
   },
   "outputs": [],
   "source": [
    "rows = table.find_all(\"tr\")\n",
    "#print(rows)           #uncomment to see full output"
   ]
  },
  {
   "cell_type": "markdown",
   "id": "db9fe121-26d7-4cbf-966b-65093d181bf1",
   "metadata": {},
   "source": [
    "### Display all the rows except for the first one (which is has the headers)"
   ]
  },
  {
   "cell_type": "code",
   "execution_count": 110,
   "id": "001cfede-3b5b-4c30-ad0e-46e797f9091c",
   "metadata": {
    "tags": []
   },
   "outputs": [],
   "source": [
    "# Uncomment to see full output\n",
    "\n",
    "#for i in rows[1:]:\n",
    "#    print(i)     "
   ]
  },
  {
   "cell_type": "markdown",
   "id": "eee3f8ed-2fc5-4446-9d37-32551d84ebd3",
   "metadata": {},
   "source": [
    "\n",
    "### Find all the data cells in each row"
   ]
  },
  {
   "cell_type": "code",
   "execution_count": 111,
   "id": "601b4c5e-7d98-4099-9536-c4beb61a6964",
   "metadata": {
    "tags": []
   },
   "outputs": [],
   "source": [
    "####Uncomment code below to see full output###\n",
    "\n",
    "#for i in rows[1:]:\n",
    "#    data = table.find_all(\"td\")\n",
    "#    print(data)"
   ]
  },
  {
   "cell_type": "markdown",
   "id": "152df6d7-0431-40b5-a765-98848c4bc1b9",
   "metadata": {},
   "source": [
    "### Place the text from each row into a list called \"row\". A list comprehension is used. The attribute \"text\" pick only the text (not the tags) from each row."
   ]
  },
  {
   "cell_type": "code",
   "execution_count": 112,
   "id": "7c1fd4ae-b987-4c9d-b423-8ba6f81bb18e",
   "metadata": {
    "tags": []
   },
   "outputs": [],
   "source": [
    "## Uncomment code below to see full output\n",
    "\n",
    "#for i in rows[1:]:\n",
    "#    data = table.find_all(\"td\")\n",
    "#    #print(data)\n",
    "#    row = [tr.text for tr in data]\n",
    "#    print(row)\n",
    "\n",
    "# We now have a list called rows with all the data in the table"
   ]
  },
  {
   "cell_type": "markdown",
   "id": "b2285fda-72b6-4a53-bdad-7339ffc9997f",
   "metadata": {},
   "source": [
    "### This is practically the same code as above"
   ]
  },
  {
   "cell_type": "code",
   "execution_count": 113,
   "id": "c258b829-53e1-4d3b-900e-664371409d0e",
   "metadata": {
    "tags": []
   },
   "outputs": [
    {
     "data": {
      "text/plain": [
       "[<tr>\n",
       " <td>\n",
       " <a class=\"complink\" href=\"company/NHPC\">NHPC</a>\n",
       " </td>\n",
       " <td class=\"Number\">100.65</td>\n",
       " <td class=\"Number\">103.00</td>\n",
       " </tr>]"
      ]
     },
     "execution_count": 113,
     "metadata": {},
     "output_type": "execute_result"
    }
   ],
   "source": [
    "# Remember: rows is a long list. Each list item has tags.\n",
    "# Example:\n",
    "rows[1:2]"
   ]
  },
  {
   "cell_type": "code",
   "execution_count": 114,
   "id": "6e5fa1a2-373a-45a6-89d0-af473cda686e",
   "metadata": {
    "tags": []
   },
   "outputs": [
    {
     "data": {
      "text/html": [
       "<div>\n",
       "<style scoped>\n",
       "    .dataframe tbody tr th:only-of-type {\n",
       "        vertical-align: middle;\n",
       "    }\n",
       "\n",
       "    .dataframe tbody tr th {\n",
       "        vertical-align: top;\n",
       "    }\n",
       "\n",
       "    .dataframe thead th {\n",
       "        text-align: right;\n",
       "    }\n",
       "</style>\n",
       "<table border=\"1\" class=\"dataframe\">\n",
       "  <thead>\n",
       "    <tr style=\"text-align: right;\">\n",
       "      <th></th>\n",
       "      <th>Company</th>\n",
       "      <th>PriceRs.</th>\n",
       "      <th>Day HighRs.</th>\n",
       "    </tr>\n",
       "  </thead>\n",
       "  <tbody>\n",
       "    <tr>\n",
       "      <th>0</th>\n",
       "      <td>\\nNHPC\\n</td>\n",
       "      <td>100.65</td>\n",
       "      <td>103.00</td>\n",
       "    </tr>\n",
       "    <tr>\n",
       "      <th>1</th>\n",
       "      <td>\\nNBCC (India)\\n</td>\n",
       "      <td>168.65</td>\n",
       "      <td>169.95</td>\n",
       "    </tr>\n",
       "    <tr>\n",
       "      <th>2</th>\n",
       "      <td>\\nReliance Industries\\n</td>\n",
       "      <td>2915.40</td>\n",
       "      <td>2949.80</td>\n",
       "    </tr>\n",
       "    <tr>\n",
       "      <th>3</th>\n",
       "      <td>\\nBPCL\\n</td>\n",
       "      <td>558.35</td>\n",
       "      <td>572.40</td>\n",
       "    </tr>\n",
       "    <tr>\n",
       "      <th>4</th>\n",
       "      <td>\\nSJVN\\n</td>\n",
       "      <td>142.25</td>\n",
       "      <td>146.35</td>\n",
       "    </tr>\n",
       "    <tr>\n",
       "      <th>5</th>\n",
       "      <td>\\nPNB\\n</td>\n",
       "      <td>125.40</td>\n",
       "      <td>128.25</td>\n",
       "    </tr>\n",
       "    <tr>\n",
       "      <th>6</th>\n",
       "      <td>\\nHousing &amp; Urban Dev.\\n</td>\n",
       "      <td>208.00</td>\n",
       "      <td>226.45</td>\n",
       "    </tr>\n",
       "    <tr>\n",
       "      <th>7</th>\n",
       "      <td>\\nSBI\\n</td>\n",
       "      <td>649.65</td>\n",
       "      <td>660.55</td>\n",
       "    </tr>\n",
       "    <tr>\n",
       "      <th>8</th>\n",
       "      <td>\\nIndian Oil Corp.\\n</td>\n",
       "      <td>162.90</td>\n",
       "      <td>166.80</td>\n",
       "    </tr>\n",
       "    <tr>\n",
       "      <th>9</th>\n",
       "      <td>\\nEngineers India\\n</td>\n",
       "      <td>261.35</td>\n",
       "      <td>273.90</td>\n",
       "    </tr>\n",
       "  </tbody>\n",
       "</table>\n",
       "</div>"
      ],
      "text/plain": [
       "                    Company PriceRs. Day HighRs.\n",
       "0                  \\nNHPC\\n   100.65      103.00\n",
       "1          \\nNBCC (India)\\n   168.65      169.95\n",
       "2   \\nReliance Industries\\n  2915.40     2949.80\n",
       "3                  \\nBPCL\\n   558.35      572.40\n",
       "4                  \\nSJVN\\n   142.25      146.35\n",
       "5                   \\nPNB\\n   125.40      128.25\n",
       "6  \\nHousing & Urban Dev.\\n   208.00      226.45\n",
       "7                   \\nSBI\\n   649.65      660.55\n",
       "8      \\nIndian Oil Corp.\\n   162.90      166.80\n",
       "9       \\nEngineers India\\n   261.35      273.90"
      ]
     },
     "execution_count": 114,
     "metadata": {},
     "output_type": "execute_result"
    }
   ],
   "source": [
    "for i in rows[1:]:\n",
    "    data = i.find_all(\"td\")            # loop around, find the td tag in the first row. The td tag contain the data in the first row\n",
    "    row = [tr.text for tr in data]     # remove the td tags from the first row and only keep the text\n",
    "    l =len(df)                         # initially, the size of the dataframe is 0 but as we loop around it increases (more rows get added)\n",
    "    df.loc[l]= row                     # cleverly, the rows of the dataframe df get filled up with the stripped up rows of the table\n",
    "\n",
    "df.head(10)     "
   ]
  },
  {
   "cell_type": "code",
   "execution_count": 115,
   "id": "62f99828-abbe-4f58-9106-63ebbb886f90",
   "metadata": {
    "tags": []
   },
   "outputs": [
    {
     "data": {
      "text/plain": [
       "15"
      ]
     },
     "execution_count": 115,
     "metadata": {},
     "output_type": "execute_result"
    }
   ],
   "source": [
    "len(df)"
   ]
  },
  {
   "cell_type": "markdown",
   "id": "5f68d6c5-639b-4de0-bb07-e98e4d7a3786",
   "metadata": {},
   "source": [
    "## Example 02"
   ]
  },
  {
   "cell_type": "markdown",
   "id": "0439463e-d60a-4ad4-8b11-79266072a27f",
   "metadata": {},
   "source": [
    "### `find()`\n",
    "* Method for finding the first tag with the specified name (as a string) or id and returning an object of type bs4. \n",
    "* Used for getting merely the first tag of the incoming HTML object for which condition is satisfied. \n",
    "* The return type is <class ‘bs4.element.Tag’>.\n",
    "\n",
    "### `find_all()`\n",
    "* Method for finding out ALL tags with the specified tag name or id and returning them as a list of type bs4. \n",
    "* It is used for getting all the incoming HTML objects for which condition is satisfied.  \n",
    "* The return type is <class ‘bs4.element.ResultSet’>,"
   ]
  },
  {
   "cell_type": "markdown",
   "id": "cdcb7c09-807c-4f37-9335-221230893b4d",
   "metadata": {},
   "source": [
    "## Create a string that simulates a html page with a table"
   ]
  },
  {
   "cell_type": "code",
   "execution_count": 116,
   "id": "86f5673a-ce2c-4aab-bd1b-f34b11486e96",
   "metadata": {
    "tags": []
   },
   "outputs": [
    {
     "name": "stdout",
     "output_type": "stream",
     "text": [
      "<table border=\"1\">\n",
      "<tr>\n",
      "<th>Name</th>\n",
      "<th>Age</th>\n",
      "<th>Country</th>\n",
      "</tr>\n",
      "<tr>\n",
      "<td>Todd Harris</td>\n",
      "<td>28</td>\n",
      "<td>Britain</td>\n",
      "</tr>\n",
      "<tr>\n",
      "<td>Nicole Johnson</td>\n",
      "<td>35</td>\n",
      "<td>USA</td>\n",
      "</tr>\n",
      "<tr>\n",
      "<td>Samuel Jackson</td>\n",
      "<td>19</td>\n",
      "<td>USA</td>\n",
      "</tr>\n",
      "</table>\n"
     ]
    }
   ],
   "source": [
    "from bs4 import BeautifulSoup\n",
    "\n",
    "html_doc = \"\"\"\n",
    "<html>\n",
    "    <body>\n",
    "        <h1>Hello, BeautifulSoup!</h1>\n",
    "        <table border=\"1\" >\n",
    "  <tr>\n",
    "    <th>Name</th>\n",
    "    <th>Age</th>  \n",
    "    <th>Country</th>\n",
    "  </tr>\n",
    "  <tr>\n",
    "    <td>Todd Harris</td>\n",
    "    <td>28</td>\n",
    "    <td>Britain</td>\n",
    "  </tr>\n",
    "  <tr>\n",
    "    <td>Nicole Johnson</td>\n",
    "    <td>35</td>\n",
    "    <td>USA</td>\n",
    "  </tr>\n",
    "  <tr>\n",
    "    <td>Samuel Jackson</td>\n",
    "    <td>19</td>\n",
    "    <td>USA</td>\n",
    "  </tr>\n",
    "</table>\n",
    "    </body>\n",
    "</html>\n",
    "\"\"\"\n",
    "# Creating a soup object using the html.parser\n",
    "#The parser has the job of \"parsing\" the html formatted code\n",
    "# Parsing comes from Latin pars (orationis), meaning part (of speech).HTML parsing is basically taking in HTML code and extracting relevant information \n",
    "soup = BeautifulSoup(html_doc, 'html.parser')    \n",
    "\n",
    "## Find All the (table> tags in the soup object by apply the method find(\"table\") to it\n",
    "table = soup.find('table')\n",
    "print(table)"
   ]
  },
  {
   "cell_type": "code",
   "execution_count": 117,
   "id": "bd2aa496-1347-4c3c-9b18-c5d267858e89",
   "metadata": {
    "tags": []
   },
   "outputs": [
    {
     "name": "stdout",
     "output_type": "stream",
     "text": [
      "[<th>Name</th>, <th>Age</th>, <th>Country</th>]\n"
     ]
    }
   ],
   "source": [
    "headers = table.find_all(\"th\")\n",
    "print(headers)"
   ]
  },
  {
   "cell_type": "code",
   "execution_count": 118,
   "id": "7e9f9c74-e3e0-4bcc-a857-8c3c4e2031ef",
   "metadata": {
    "tags": []
   },
   "outputs": [
    {
     "name": "stdout",
     "output_type": "stream",
     "text": [
      "['Name', 'Age', 'Country']\n"
     ]
    }
   ],
   "source": [
    "titles = []\n",
    "\n",
    "for i in headers:\n",
    "    title = i.text\n",
    "    titles.append(title)\n",
    "    \n",
    "print(titles)"
   ]
  },
  {
   "cell_type": "code",
   "execution_count": 119,
   "id": "ed904255-240d-476a-b291-f488439d1825",
   "metadata": {
    "tags": []
   },
   "outputs": [
    {
     "name": "stdout",
     "output_type": "stream",
     "text": [
      "Empty DataFrame\n",
      "Columns: [Name, Age, Country]\n",
      "Index: []\n"
     ]
    }
   ],
   "source": [
    "df2 = pd.DataFrame(columns=titles)\n",
    "print(df2)"
   ]
  },
  {
   "cell_type": "code",
   "execution_count": 120,
   "id": "e3c7a95b-a37c-4eea-a252-7a30e58c50d7",
   "metadata": {
    "tags": []
   },
   "outputs": [
    {
     "name": "stdout",
     "output_type": "stream",
     "text": [
      "[<tr>\n",
      "<th>Name</th>\n",
      "<th>Age</th>\n",
      "<th>Country</th>\n",
      "</tr>, <tr>\n",
      "<td>Todd Harris</td>\n",
      "<td>28</td>\n",
      "<td>Britain</td>\n",
      "</tr>, <tr>\n",
      "<td>Nicole Johnson</td>\n",
      "<td>35</td>\n",
      "<td>USA</td>\n",
      "</tr>, <tr>\n",
      "<td>Samuel Jackson</td>\n",
      "<td>19</td>\n",
      "<td>USA</td>\n",
      "</tr>]\n"
     ]
    }
   ],
   "source": [
    "rows = table.find_all(\"tr\")\n",
    "print(rows) "
   ]
  },
  {
   "cell_type": "code",
   "execution_count": 121,
   "id": "01ea63a5-4035-4263-a1db-0b4b70b64fa6",
   "metadata": {
    "tags": []
   },
   "outputs": [
    {
     "name": "stdout",
     "output_type": "stream",
     "text": [
      "<tr>\n",
      "<td>Todd Harris</td>\n",
      "<td>28</td>\n",
      "<td>Britain</td>\n",
      "</tr>\n",
      "<tr>\n",
      "<td>Nicole Johnson</td>\n",
      "<td>35</td>\n",
      "<td>USA</td>\n",
      "</tr>\n"
     ]
    }
   ],
   "source": [
    "for i in rows[1:3]:\n",
    "    print(i)  "
   ]
  },
  {
   "cell_type": "code",
   "execution_count": 122,
   "id": "7ea423da-3031-4f2b-8784-390dd11ca6b1",
   "metadata": {
    "tags": []
   },
   "outputs": [
    {
     "data": {
      "text/html": [
       "<div>\n",
       "<style scoped>\n",
       "    .dataframe tbody tr th:only-of-type {\n",
       "        vertical-align: middle;\n",
       "    }\n",
       "\n",
       "    .dataframe tbody tr th {\n",
       "        vertical-align: top;\n",
       "    }\n",
       "\n",
       "    .dataframe thead th {\n",
       "        text-align: right;\n",
       "    }\n",
       "</style>\n",
       "<table border=\"1\" class=\"dataframe\">\n",
       "  <thead>\n",
       "    <tr style=\"text-align: right;\">\n",
       "      <th></th>\n",
       "      <th>Name</th>\n",
       "      <th>Age</th>\n",
       "      <th>Country</th>\n",
       "    </tr>\n",
       "  </thead>\n",
       "  <tbody>\n",
       "    <tr>\n",
       "      <th>0</th>\n",
       "      <td>Todd Harris</td>\n",
       "      <td>28</td>\n",
       "      <td>Britain</td>\n",
       "    </tr>\n",
       "    <tr>\n",
       "      <th>1</th>\n",
       "      <td>Nicole Johnson</td>\n",
       "      <td>35</td>\n",
       "      <td>USA</td>\n",
       "    </tr>\n",
       "    <tr>\n",
       "      <th>2</th>\n",
       "      <td>Samuel Jackson</td>\n",
       "      <td>19</td>\n",
       "      <td>USA</td>\n",
       "    </tr>\n",
       "  </tbody>\n",
       "</table>\n",
       "</div>"
      ],
      "text/plain": [
       "             Name Age  Country\n",
       "0     Todd Harris  28  Britain\n",
       "1  Nicole Johnson  35      USA\n",
       "2  Samuel Jackson  19      USA"
      ]
     },
     "execution_count": 122,
     "metadata": {},
     "output_type": "execute_result"
    }
   ],
   "source": [
    "# Clean the rows (strip all tags) and place the rows in the list inside the empty dataframe named df2\n",
    "for i in rows[1:]:\n",
    "    data = i.find_all(\"td\")            \n",
    "    row = [tr.text for tr in data]     \n",
    "    l =len(df2)                        \n",
    "    df2.loc[l]= row                     \n",
    "\n",
    "# Inspect the dataset \n",
    "df2.head() "
   ]
  }
 ],
 "metadata": {
  "kernelspec": {
   "display_name": "Python 3 (ipykernel)",
   "language": "python",
   "name": "python3"
  },
  "language_info": {
   "codemirror_mode": {
    "name": "ipython",
    "version": 3
   },
   "file_extension": ".py",
   "mimetype": "text/x-python",
   "name": "python",
   "nbconvert_exporter": "python",
   "pygments_lexer": "ipython3",
   "version": "3.11.4"
  }
 },
 "nbformat": 4,
 "nbformat_minor": 5
}
